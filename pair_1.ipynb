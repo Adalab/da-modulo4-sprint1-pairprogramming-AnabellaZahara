{
 "cells": [
  {
   "cell_type": "code",
   "execution_count": 2,
   "metadata": {},
   "outputs": [],
   "source": [
    "import pandas as pd\n",
    "import numpy as np"
   ]
  },
  {
   "cell_type": "code",
   "execution_count": 3,
   "metadata": {},
   "outputs": [],
   "source": [
    "df_polluted = pd.read_csv('ficheros/most-polluted-countries.csv')"
   ]
  },
  {
   "cell_type": "code",
   "execution_count": 4,
   "metadata": {},
   "outputs": [
    {
     "data": {
      "text/plain": [
       "(96, 12)"
      ]
     },
     "execution_count": 4,
     "metadata": {},
     "output_type": "execute_result"
    }
   ],
   "source": [
    "df_polluted.shape"
   ]
  },
  {
   "cell_type": "markdown",
   "metadata": {},
   "source": [
    "Columnas a eliminar: \n",
    "\n",
    " - pollution_density_per_Mile: La eliminamos ya que tenemos una columna igual pero en km\n",
    " -ccn3"
   ]
  },
  {
   "cell_type": "code",
   "execution_count": 5,
   "metadata": {},
   "outputs": [
    {
     "data": {
      "text/html": [
       "<div>\n",
       "<style scoped>\n",
       "    .dataframe tbody tr th:only-of-type {\n",
       "        vertical-align: middle;\n",
       "    }\n",
       "\n",
       "    .dataframe tbody tr th {\n",
       "        vertical-align: top;\n",
       "    }\n",
       "\n",
       "    .dataframe thead th {\n",
       "        text-align: right;\n",
       "    }\n",
       "</style>\n",
       "<table border=\"1\" class=\"dataframe\">\n",
       "  <thead>\n",
       "    <tr style=\"text-align: right;\">\n",
       "      <th></th>\n",
       "      <th>pollution_2023</th>\n",
       "      <th>pollution_growth_Rate</th>\n",
       "      <th>country_name</th>\n",
       "      <th>ccn3</th>\n",
       "      <th>country_region</th>\n",
       "      <th>united_nation_Member</th>\n",
       "      <th>country_land_Area_in_Km</th>\n",
       "      <th>pollution_density_in_km</th>\n",
       "      <th>pollution_density_per_Mile</th>\n",
       "      <th>share_borders</th>\n",
       "      <th>pollution_Rank</th>\n",
       "      <th>mostPollutedCountries_particlePollution</th>\n",
       "    </tr>\n",
       "  </thead>\n",
       "  <tbody>\n",
       "    <tr>\n",
       "      <th>0</th>\n",
       "      <td>1428627663</td>\n",
       "      <td>0.00808</td>\n",
       "      <td>India</td>\n",
       "      <td>356</td>\n",
       "      <td>Asia</td>\n",
       "      <td>True</td>\n",
       "      <td>2973190.0</td>\n",
       "      <td>480.5033</td>\n",
       "      <td>1244.5036</td>\n",
       "      <td>AFG, BGD, BTN, MMR, CHN, NPL, PAK, LKA</td>\n",
       "      <td>1</td>\n",
       "      <td>58.08</td>\n",
       "    </tr>\n",
       "    <tr>\n",
       "      <th>1</th>\n",
       "      <td>1425671352</td>\n",
       "      <td>-0.00015</td>\n",
       "      <td>China</td>\n",
       "      <td>156</td>\n",
       "      <td>Asia</td>\n",
       "      <td>True</td>\n",
       "      <td>9424702.9</td>\n",
       "      <td>151.2696</td>\n",
       "      <td>391.7884</td>\n",
       "      <td>AFG, BTN, MMR, HKG, IND, KAZ, PRK, KGZ, LAO, M...</td>\n",
       "      <td>2</td>\n",
       "      <td>39.12</td>\n",
       "    </tr>\n",
       "    <tr>\n",
       "      <th>2</th>\n",
       "      <td>339996563</td>\n",
       "      <td>0.00505</td>\n",
       "      <td>United States</td>\n",
       "      <td>840</td>\n",
       "      <td>North America</td>\n",
       "      <td>True</td>\n",
       "      <td>9147420.0</td>\n",
       "      <td>37.1686</td>\n",
       "      <td>96.2666</td>\n",
       "      <td>CAN, MEX</td>\n",
       "      <td>3</td>\n",
       "      <td>9.04</td>\n",
       "    </tr>\n",
       "    <tr>\n",
       "      <th>3</th>\n",
       "      <td>277534122</td>\n",
       "      <td>0.00738</td>\n",
       "      <td>Indonesia</td>\n",
       "      <td>360</td>\n",
       "      <td>Asia</td>\n",
       "      <td>True</td>\n",
       "      <td>1877519.0</td>\n",
       "      <td>147.8196</td>\n",
       "      <td>382.8528</td>\n",
       "      <td>TLS, MYS, PNG</td>\n",
       "      <td>4</td>\n",
       "      <td>51.71</td>\n",
       "    </tr>\n",
       "    <tr>\n",
       "      <th>4</th>\n",
       "      <td>240485658</td>\n",
       "      <td>0.01976</td>\n",
       "      <td>Pakistan</td>\n",
       "      <td>586</td>\n",
       "      <td>Asia</td>\n",
       "      <td>True</td>\n",
       "      <td>770880.0</td>\n",
       "      <td>311.9625</td>\n",
       "      <td>807.9829</td>\n",
       "      <td>AFG, CHN, IND, IRN</td>\n",
       "      <td>5</td>\n",
       "      <td>65.81</td>\n",
       "    </tr>\n",
       "  </tbody>\n",
       "</table>\n",
       "</div>"
      ],
      "text/plain": [
       "   pollution_2023  pollution_growth_Rate   country_name  ccn3 country_region  \\\n",
       "0      1428627663                0.00808          India   356           Asia   \n",
       "1      1425671352               -0.00015          China   156           Asia   \n",
       "2       339996563                0.00505  United States   840  North America   \n",
       "3       277534122                0.00738      Indonesia   360           Asia   \n",
       "4       240485658                0.01976       Pakistan   586           Asia   \n",
       "\n",
       "   united_nation_Member  country_land_Area_in_Km  pollution_density_in_km  \\\n",
       "0                  True                2973190.0                 480.5033   \n",
       "1                  True                9424702.9                 151.2696   \n",
       "2                  True                9147420.0                  37.1686   \n",
       "3                  True                1877519.0                 147.8196   \n",
       "4                  True                 770880.0                 311.9625   \n",
       "\n",
       "   pollution_density_per_Mile  \\\n",
       "0                   1244.5036   \n",
       "1                    391.7884   \n",
       "2                     96.2666   \n",
       "3                    382.8528   \n",
       "4                    807.9829   \n",
       "\n",
       "                                       share_borders  pollution_Rank  \\\n",
       "0             AFG, BGD, BTN, MMR, CHN, NPL, PAK, LKA               1   \n",
       "1  AFG, BTN, MMR, HKG, IND, KAZ, PRK, KGZ, LAO, M...               2   \n",
       "2                                           CAN, MEX               3   \n",
       "3                                      TLS, MYS, PNG               4   \n",
       "4                                 AFG, CHN, IND, IRN               5   \n",
       "\n",
       "   mostPollutedCountries_particlePollution  \n",
       "0                                    58.08  \n",
       "1                                    39.12  \n",
       "2                                     9.04  \n",
       "3                                    51.71  \n",
       "4                                    65.81  "
      ]
     },
     "execution_count": 5,
     "metadata": {},
     "output_type": "execute_result"
    }
   ],
   "source": [
    "df_polluted.head(5)\n",
    "\n",
    "#land area in km: Son los km2 del area de tierra sin contar superficies de masas de aguas interiores (rios)\n",
    "\n",
    "#En el dataframe, la columna \"ccn3\" hace referencia al código numérico de país según la clasificación estándar\n",
    "# ISO 3166-1 alfa-3. Cada país tiene asignado un código único de tres letras que se utiliza para identificarlo de \n",
    "#manera global en diversas aplicaciones, incluyendo el análisis de datos y la generación de informes.\n"
   ]
  },
  {
   "cell_type": "code",
   "execution_count": 10,
   "metadata": {},
   "outputs": [
    {
     "data": {
      "text/plain": [
       "country_region\n",
       "Africa            9\n",
       "Asia             37\n",
       "Europe           35\n",
       "North America     7\n",
       "Oceania           2\n",
       "South America     6\n",
       "Name: country_name, dtype: int64"
      ]
     },
     "execution_count": 10,
     "metadata": {},
     "output_type": "execute_result"
    }
   ],
   "source": [
    "df_polluted.groupby('country_region')['country_name'].count()"
   ]
  }
 ],
 "metadata": {
  "kernelspec": {
   "display_name": "base",
   "language": "python",
   "name": "python3"
  },
  "language_info": {
   "codemirror_mode": {
    "name": "ipython",
    "version": 3
   },
   "file_extension": ".py",
   "mimetype": "text/x-python",
   "name": "python",
   "nbconvert_exporter": "python",
   "pygments_lexer": "ipython3",
   "version": "3.10.9"
  },
  "orig_nbformat": 4
 },
 "nbformat": 4,
 "nbformat_minor": 2
}
